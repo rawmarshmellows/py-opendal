{
 "cells": [
  {
   "cell_type": "code",
   "execution_count": 1,
   "id": "6a33080c-921f-4b5f-8373-477481fd69f1",
   "metadata": {},
   "outputs": [],
   "source": [
    "def add_one(x: int) -> int:\n",
    "    return x + 1"
   ]
  },
  {
   "cell_type": "code",
   "execution_count": 2,
   "id": "f7d4fd86-148e-46ed-b1d8-e4d3ba263fcf",
   "metadata": {},
   "outputs": [
    {
     "name": "stdout",
     "output_type": "stream",
     "text": [
      "2\n"
     ]
    }
   ],
   "source": [
    "print(add_one(1))"
   ]
  },
  {
   "cell_type": "code",
   "execution_count": null,
   "id": "bc74cdb7-663d-44d7-b9dd-11f495ce707c",
   "metadata": {},
   "outputs": [],
   "source": []
  }
 ],
 "metadata": {
  "kernelspec": {
   "display_name": "Python 3 (ipykernel)",
   "language": "python",
   "name": "python3"
  },
  "language_info": {
   "codemirror_mode": {
    "name": "ipython",
    "version": 3
   },
   "file_extension": ".py",
   "mimetype": "text/x-python",
   "name": "python",
   "nbconvert_exporter": "python",
   "pygments_lexer": "ipython3",
   "version": "3.12.4"
  }
 },
 "nbformat": 4,
 "nbformat_minor": 5
}
